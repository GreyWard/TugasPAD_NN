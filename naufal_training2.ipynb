{
 "cells": [
  {
   "cell_type": "code",
   "execution_count": 1,
   "metadata": {},
   "outputs": [],
   "source": [
    "import numpy as np\n",
    "\n",
    "class Layer:\n",
    "    def __init__(self):\n",
    "        pass\n",
    "\n",
    "    def forward(self, input):\n",
    "        return input\n",
    "\n",
    "    def backward(self, input, grad_output):\n",
    "        num_units = input.shape[1]\n",
    "        d_layer_d_input = np.eye(num_units)\n",
    "        return np.dot(grad_output, d_layer_d_input)\n",
    "class ReLU(Layer):\n",
    "    def __init__(self):\n",
    "        pass\n",
    "\n",
    "    def forward(self, input):\n",
    "        return np.maximum(0,input)\n",
    "\n",
    "    def backward(self, input, grad_output):\n",
    "        relu_grad = input > 0\n",
    "        return grad_output*relu_grad\n",
    "class Dense(Layer):\n",
    "    def __init__(self, input_units, output_units, learning_rate=0.1):\n",
    "        self.learning_rate = learning_rate\n",
    "        self.weights = np.random.normal(loc=0.0, \n",
    "                                        scale = np.sqrt(2/(input_units+output_units)), \n",
    "                                        size = (input_units,output_units))\n",
    "        self.biases = np.zeros(output_units)\n",
    "\n",
    "    def forward(self,input):\n",
    "        return np.dot(input,self.weights) + self.biases\n",
    "\n",
    "    def backward(self,input,grad_output):\n",
    "        grad_input = np.dot(grad_output, self.weights.T)\n",
    "        grad_weights = np.dot(input.T, grad_output)\n",
    "        grad_biases = grad_output.mean(axis=0)*input.shape[0]\n",
    "        assert grad_weights.shape == self.weights.shape and grad_biases.shape == self.biases.shape\n",
    "        self.weights = self.weights - self.learning_rate * grad_weights\n",
    "        self.biases = self.biases - self.learning_rate * grad_biases\n",
    "        return grad_input\n",
    "def softmax_crossentropy_with_logits(logits,reference_answers):\n",
    "    logits_for_answers = logits[np.arange(len(logits)),reference_answers]\n",
    "    xentropy = - logits_for_answers + np.log(np.sum(np.exp(logits),axis=-1))\n",
    "    return xentropy\n",
    "\n",
    "def grad_softmax_crossentropy_with_logits(logits,reference_answers):\n",
    "    ones_for_answers = np.zeros_like(logits)\n",
    "    ones_for_answers[np.arange(len(logits)),reference_answers] = 1\n",
    "    softmax = np.exp(logits) / np.exp(logits).sum(axis=-1,keepdims=True)\n",
    "    return (- ones_for_answers + softmax) / logits.shape[0]\n",
    "class NeuralNetwork:\n",
    "    def __init__(self, input_units, hidden_units, output_units, learning_rate=0.1):\n",
    "        self.dense1 = Dense(input_units, hidden_units, learning_rate)\n",
    "        self.activation1 = ReLU()\n",
    "        self.dense2 = Dense(hidden_units, output_units, learning_rate)\n",
    "\n",
    "    def forward(self, X):\n",
    "        dense1_out = self.dense1.forward(X)\n",
    "        activation1_out = self.activation1.forward(dense1_out)\n",
    "        dense2_out = self.dense2.forward(activation1_out)\n",
    "        return dense2_out\n",
    "\n",
    "    def predict(self,X):\n",
    "        logits = self.forward(X)\n",
    "        return np.argmax(logits,axis=-1)\n",
    "\n",
    "    def fit(self, X, y, epochs):\n",
    "        for epoch in range(epochs):\n",
    "            logits = self.forward(X)\n",
    "            loss = softmax_crossentropy_with_logits(logits, y)\n",
    "            loss_grad = grad_softmax_crossentropy_with_logits(logits, y)\n",
    "            self.dense2.backward(self.activation1.forward(self.dense1.forward(X)), loss_grad)\n",
    "            self.activation1.backward(self.dense1.forward(X), self.dense2.backward(self.activation1.forward(self.dense1.forward(X)), loss_grad))\n",
    "            self.dense1.backward(X, self.activation1.backward(self.dense1.forward(X), self.dense2.backward(self.activation1.forward(self.dense1.forward(X)), loss_grad)))\n",
    "\n",
    "            if epoch % 10 == 0:\n",
    "                print(f'Epoch: {epoch}, Loss: {np.mean(loss)}')\n",
    "\n"
   ]
  },
  {
   "cell_type": "code",
   "execution_count": 2,
   "metadata": {},
   "outputs": [
    {
     "name": "stdout",
     "output_type": "stream",
     "text": [
      "(388, 50)\n",
      "(388, 4)\n"
     ]
    }
   ],
   "source": [
    "import pandas as pd\n",
    "df = pd.read_csv('Acoustic Features.csv')\n",
    "def normalize(data, i):\n",
    "    # Initialize a list to store the means of each column\n",
    "    means = [0] * i\n",
    "    # Initialize a list to store the standard deviations of each column\n",
    "    stds = [1] * i\n",
    "    # Loop through the columns\n",
    "    for j in range(i):\n",
    "        # Compute the mean of the column\n",
    "        mean = data.iloc[:, j].mean()\n",
    "        # Compute the standard deviation of the column\n",
    "        std = data.iloc[:, j].std()\n",
    "        # Store the mean and standard deviation\n",
    "        means[j] = mean\n",
    "        stds[j] = std\n",
    "    # Loop through the rows\n",
    "    for index, row in data.iterrows():\n",
    "        # Loop through the columns\n",
    "        for j in range(i):\n",
    "            # Normalize the value by subtracting the mean and dividing by the standard deviation\n",
    "            row[j] = (row[j] - means[j]) / stds[j]\n",
    "    # Return the normalized data\n",
    "    return data\n",
    "# drop duplicate\n",
    "df = df.drop_duplicates(keep='first')\n",
    "# Split feature and target\n",
    "X = df.drop(columns=['Class'])\n",
    "y = df['Class']\n",
    "y = pd.get_dummies(y, columns = ['Class'])\n",
    "print(X.shape)\n",
    "print(y.shape)"
   ]
  },
  {
   "cell_type": "code",
   "execution_count": 3,
   "metadata": {},
   "outputs": [
    {
     "ename": "IndexError",
     "evalue": "too many indices for array: array is 2-dimensional, but 3 were indexed",
     "output_type": "error",
     "traceback": [
      "\u001b[0;31m---------------------------------------------------------------------------\u001b[0m",
      "\u001b[0;31mIndexError\u001b[0m                                Traceback (most recent call last)",
      "\u001b[1;32m/home/serverai/NF/PAD/TugasPAD_NN/naufal_training2.ipynb Cell 3\u001b[0m line \u001b[0;36m2\n\u001b[1;32m      <a href='vscode-notebook-cell://ssh-remote%2B100.102.195.149/home/serverai/NF/PAD/TugasPAD_NN/naufal_training2.ipynb#W2sdnNjb2RlLXJlbW90ZQ%3D%3D?line=0'>1</a>\u001b[0m network \u001b[39m=\u001b[39m NeuralNetwork(X\u001b[39m.\u001b[39mshape[\u001b[39m1\u001b[39m], \u001b[39m5\u001b[39m, y\u001b[39m.\u001b[39mshape[\u001b[39m1\u001b[39m])\n\u001b[0;32m----> <a href='vscode-notebook-cell://ssh-remote%2B100.102.195.149/home/serverai/NF/PAD/TugasPAD_NN/naufal_training2.ipynb#W2sdnNjb2RlLXJlbW90ZQ%3D%3D?line=1'>2</a>\u001b[0m network\u001b[39m.\u001b[39;49mfit(X, y, epochs\u001b[39m=\u001b[39;49m\u001b[39m100\u001b[39;49m)\n",
      "\u001b[1;32m/home/serverai/NF/PAD/TugasPAD_NN/naufal_training2.ipynb Cell 3\u001b[0m line \u001b[0;36m7\n\u001b[1;32m     <a href='vscode-notebook-cell://ssh-remote%2B100.102.195.149/home/serverai/NF/PAD/TugasPAD_NN/naufal_training2.ipynb#W2sdnNjb2RlLXJlbW90ZQ%3D%3D?line=69'>70</a>\u001b[0m \u001b[39mfor\u001b[39;00m epoch \u001b[39min\u001b[39;00m \u001b[39mrange\u001b[39m(epochs):\n\u001b[1;32m     <a href='vscode-notebook-cell://ssh-remote%2B100.102.195.149/home/serverai/NF/PAD/TugasPAD_NN/naufal_training2.ipynb#W2sdnNjb2RlLXJlbW90ZQ%3D%3D?line=70'>71</a>\u001b[0m     logits \u001b[39m=\u001b[39m \u001b[39mself\u001b[39m\u001b[39m.\u001b[39mforward(X)\n\u001b[0;32m---> <a href='vscode-notebook-cell://ssh-remote%2B100.102.195.149/home/serverai/NF/PAD/TugasPAD_NN/naufal_training2.ipynb#W2sdnNjb2RlLXJlbW90ZQ%3D%3D?line=71'>72</a>\u001b[0m     loss \u001b[39m=\u001b[39m softmax_crossentropy_with_logits(logits, y)\n\u001b[1;32m     <a href='vscode-notebook-cell://ssh-remote%2B100.102.195.149/home/serverai/NF/PAD/TugasPAD_NN/naufal_training2.ipynb#W2sdnNjb2RlLXJlbW90ZQ%3D%3D?line=72'>73</a>\u001b[0m     loss_grad \u001b[39m=\u001b[39m grad_softmax_crossentropy_with_logits(logits, y)\n\u001b[1;32m     <a href='vscode-notebook-cell://ssh-remote%2B100.102.195.149/home/serverai/NF/PAD/TugasPAD_NN/naufal_training2.ipynb#W2sdnNjb2RlLXJlbW90ZQ%3D%3D?line=73'>74</a>\u001b[0m     \u001b[39mself\u001b[39m\u001b[39m.\u001b[39mdense2\u001b[39m.\u001b[39mbackward(\u001b[39mself\u001b[39m\u001b[39m.\u001b[39mactivation1\u001b[39m.\u001b[39mforward(\u001b[39mself\u001b[39m\u001b[39m.\u001b[39mdense1\u001b[39m.\u001b[39mforward(X)), loss_grad)\n",
      "\u001b[1;32m/home/serverai/NF/PAD/TugasPAD_NN/naufal_training2.ipynb Cell 3\u001b[0m line \u001b[0;36m4\n\u001b[1;32m     <a href='vscode-notebook-cell://ssh-remote%2B100.102.195.149/home/serverai/NF/PAD/TugasPAD_NN/naufal_training2.ipynb#W2sdnNjb2RlLXJlbW90ZQ%3D%3D?line=42'>43</a>\u001b[0m \u001b[39mdef\u001b[39;00m \u001b[39msoftmax_crossentropy_with_logits\u001b[39m(logits,reference_answers):\n\u001b[0;32m---> <a href='vscode-notebook-cell://ssh-remote%2B100.102.195.149/home/serverai/NF/PAD/TugasPAD_NN/naufal_training2.ipynb#W2sdnNjb2RlLXJlbW90ZQ%3D%3D?line=43'>44</a>\u001b[0m     logits_for_answers \u001b[39m=\u001b[39m logits[np\u001b[39m.\u001b[39;49marange(\u001b[39mlen\u001b[39;49m(logits)),reference_answers]\n\u001b[1;32m     <a href='vscode-notebook-cell://ssh-remote%2B100.102.195.149/home/serverai/NF/PAD/TugasPAD_NN/naufal_training2.ipynb#W2sdnNjb2RlLXJlbW90ZQ%3D%3D?line=44'>45</a>\u001b[0m     xentropy \u001b[39m=\u001b[39m \u001b[39m-\u001b[39m logits_for_answers \u001b[39m+\u001b[39m np\u001b[39m.\u001b[39mlog(np\u001b[39m.\u001b[39msum(np\u001b[39m.\u001b[39mexp(logits),axis\u001b[39m=\u001b[39m\u001b[39m-\u001b[39m\u001b[39m1\u001b[39m))\n\u001b[1;32m     <a href='vscode-notebook-cell://ssh-remote%2B100.102.195.149/home/serverai/NF/PAD/TugasPAD_NN/naufal_training2.ipynb#W2sdnNjb2RlLXJlbW90ZQ%3D%3D?line=45'>46</a>\u001b[0m     \u001b[39mreturn\u001b[39;00m xentropy\n",
      "\u001b[0;31mIndexError\u001b[0m: too many indices for array: array is 2-dimensional, but 3 were indexed"
     ]
    }
   ],
   "source": [
    "network = NeuralNetwork(X.shape[1], 5, y.shape[1])\n",
    "network.fit(X, y, epochs=100)"
   ]
  }
 ],
 "metadata": {
  "kernelspec": {
   "display_name": "compvis-nf",
   "language": "python",
   "name": "python3"
  },
  "language_info": {
   "codemirror_mode": {
    "name": "ipython",
    "version": 3
   },
   "file_extension": ".py",
   "mimetype": "text/x-python",
   "name": "python",
   "nbconvert_exporter": "python",
   "pygments_lexer": "ipython3",
   "version": "3.11.5"
  }
 },
 "nbformat": 4,
 "nbformat_minor": 2
}
